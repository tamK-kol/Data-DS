{
  "nbformat": 4,
  "nbformat_minor": 0,
  "metadata": {
    "colab": {
      "provenance": []
    },
    "kernelspec": {
      "name": "python3",
      "display_name": "Python 3"
    },
    "language_info": {
      "name": "python"
    }
  },
  "cells": [
    {
      "cell_type": "markdown",
      "source": [
        "# Task 1: Data Preparation (5 Marks)\n"
      ],
      "metadata": {
        "id": "anUD4TycT3bl"
      }
    },
    {
      "cell_type": "markdown",
      "source": [
        "\n",
        "\n",
        "*   Load a dataset of your choice.\n",
        "\n",
        "*   Perform necessary data preprocessing steps such as handling missing values, encoding categorical variables, and scaling numerical features.\n",
        "\n"
      ],
      "metadata": {
        "id": "jten8CboV-tv"
      }
    },
    {
      "cell_type": "code",
      "source": [
        "# Import necessary libraries\n",
        "import pandas as pd\n",
        "\n",
        "# Load the dataset\n",
        "file_path = \"/content/sample_data/california_housing_train.csv\"\n",
        "california_house = pd.read_csv(file_path)"
      ],
      "metadata": {
        "id": "DpqXRbEOWxKv"
      },
      "execution_count": 51,
      "outputs": []
    },
    {
      "cell_type": "code",
      "source": [
        "# Display the first few rows of the dataset to understand its structure\n",
        "print(\"First few rows of the dataset:\")\n",
        "print(california_house.head())"
      ],
      "metadata": {
        "colab": {
          "base_uri": "https://localhost:8080/"
        },
        "id": "5Q-LmLsNXGAW",
        "outputId": "b8052a55-605a-45f5-c014-8826f9dfb3ae"
      },
      "execution_count": 52,
      "outputs": [
        {
          "output_type": "stream",
          "name": "stdout",
          "text": [
            "First few rows of the dataset:\n",
            "   longitude  latitude  housing_median_age  total_rooms  total_bedrooms  \\\n",
            "0    -114.31     34.19                15.0       5612.0          1283.0   \n",
            "1    -114.47     34.40                19.0       7650.0          1901.0   \n",
            "2    -114.56     33.69                17.0        720.0           174.0   \n",
            "3    -114.57     33.64                14.0       1501.0           337.0   \n",
            "4    -114.57     33.57                20.0       1454.0           326.0   \n",
            "\n",
            "   population  households  median_income  median_house_value  \n",
            "0      1015.0       472.0         1.4936             66900.0  \n",
            "1      1129.0       463.0         1.8200             80100.0  \n",
            "2       333.0       117.0         1.6509             85700.0  \n",
            "3       515.0       226.0         3.1917             73400.0  \n",
            "4       624.0       262.0         1.9250             65500.0  \n"
          ]
        }
      ]
    },
    {
      "cell_type": "code",
      "source": [
        "# Check for missing values and handle them if necessary\n",
        "print(\"\\nMissing values in the dataset:\")\n",
        "print(california_house.isnull().sum())"
      ],
      "metadata": {
        "colab": {
          "base_uri": "https://localhost:8080/"
        },
        "id": "-N0P86AgXN89",
        "outputId": "fa95495a-bbcc-4cba-e685-c33b05c93790"
      },
      "execution_count": 53,
      "outputs": [
        {
          "output_type": "stream",
          "name": "stdout",
          "text": [
            "\n",
            "Missing values in the dataset:\n",
            "longitude             0\n",
            "latitude              0\n",
            "housing_median_age    0\n",
            "total_rooms           0\n",
            "total_bedrooms        0\n",
            "population            0\n",
            "households            0\n",
            "median_income         0\n",
            "median_house_value    0\n",
            "dtype: int64\n"
          ]
        }
      ]
    },
    {
      "cell_type": "code",
      "source": [
        "print(\"\\nData types:\")\n",
        "print(california_house.dtypes)\n"
      ],
      "metadata": {
        "colab": {
          "base_uri": "https://localhost:8080/"
        },
        "id": "5_oE0mJUXquq",
        "outputId": "5f333efb-b8e1-4ec7-8953-00212248ba4f"
      },
      "execution_count": 54,
      "outputs": [
        {
          "output_type": "stream",
          "name": "stdout",
          "text": [
            "\n",
            "Data types:\n",
            "longitude             float64\n",
            "latitude              float64\n",
            "housing_median_age    float64\n",
            "total_rooms           float64\n",
            "total_bedrooms        float64\n",
            "population            float64\n",
            "households            float64\n",
            "median_income         float64\n",
            "median_house_value    float64\n",
            "dtype: object\n"
          ]
        }
      ]
    },
    {
      "cell_type": "code",
      "source": [
        "print(\"\\nUnique values in each column:\")\n",
        "for column in california_house.columns:\n",
        "    print(f\"{column}: {california_house[column].nunique()}\")\n",
        "\n",
        "print(\"\\nSummary statistics:\")\n",
        "print(california_house.describe())"
      ],
      "metadata": {
        "colab": {
          "base_uri": "https://localhost:8080/"
        },
        "id": "aCo1Zx0aXuBl",
        "outputId": "f6f26323-8a2d-4ac3-a926-aec374ce77f5"
      },
      "execution_count": 55,
      "outputs": [
        {
          "output_type": "stream",
          "name": "stdout",
          "text": [
            "\n",
            "Unique values in each column:\n",
            "longitude: 827\n",
            "latitude: 840\n",
            "housing_median_age: 52\n",
            "total_rooms: 5533\n",
            "total_bedrooms: 1848\n",
            "population: 3683\n",
            "households: 1740\n",
            "median_income: 11175\n",
            "median_house_value: 3694\n",
            "\n",
            "Summary statistics:\n",
            "          longitude      latitude  housing_median_age   total_rooms  \\\n",
            "count  17000.000000  17000.000000        17000.000000  17000.000000   \n",
            "mean    -119.562108     35.625225           28.589353   2643.664412   \n",
            "std        2.005166      2.137340           12.586937   2179.947071   \n",
            "min     -124.350000     32.540000            1.000000      2.000000   \n",
            "25%     -121.790000     33.930000           18.000000   1462.000000   \n",
            "50%     -118.490000     34.250000           29.000000   2127.000000   \n",
            "75%     -118.000000     37.720000           37.000000   3151.250000   \n",
            "max     -114.310000     41.950000           52.000000  37937.000000   \n",
            "\n",
            "       total_bedrooms    population    households  median_income  \\\n",
            "count    17000.000000  17000.000000  17000.000000   17000.000000   \n",
            "mean       539.410824   1429.573941    501.221941       3.883578   \n",
            "std        421.499452   1147.852959    384.520841       1.908157   \n",
            "min          1.000000      3.000000      1.000000       0.499900   \n",
            "25%        297.000000    790.000000    282.000000       2.566375   \n",
            "50%        434.000000   1167.000000    409.000000       3.544600   \n",
            "75%        648.250000   1721.000000    605.250000       4.767000   \n",
            "max       6445.000000  35682.000000   6082.000000      15.000100   \n",
            "\n",
            "       median_house_value  \n",
            "count        17000.000000  \n",
            "mean        207300.912353  \n",
            "std         115983.764387  \n",
            "min          14999.000000  \n",
            "25%         119400.000000  \n",
            "50%         180400.000000  \n",
            "75%         265000.000000  \n",
            "max         500001.000000  \n"
          ]
        }
      ]
    },
    {
      "cell_type": "markdown",
      "source": [
        "# Task 2: Supervised Learning (20 Marks)\n",
        "\n",
        "\n",
        "*   Part A: Choose one supervised learning algorithm (e.g., Decision Trees, Support Vector Machines, or Neural Networks) and train it on the dataset.\n",
        "\n",
        "\n"
      ],
      "metadata": {
        "id": "8MEeCzvWYkV5"
      }
    },
    {
      "cell_type": "code",
      "source": [
        "# Import necessary libraries\n",
        "from sklearn.ensemble import RandomForestRegressor\n",
        "from sklearn.model_selection import train_test_split\n",
        "from sklearn.metrics import mean_absolute_error, mean_squared_error\n",
        "\n",
        "# Prepare data for modeling\n",
        "# Let's select features and target variable\n",
        "X = california_house[['total_rooms', 'population']]  # Selecting features for simplicity\n",
        "y = california_house['median_house_value']     # Target variable\n",
        "\n",
        "# Split the dataset into training and testing sets\n",
        "X_train, X_test, y_train, y_test = train_test_split(X, y, test_size=0.2, random_state=42)\n",
        "\n",
        "# Train the Random Forest Regression model\n",
        "random_forest_regressor = RandomForestRegressor(n_estimators=100, random_state=42)\n",
        "random_forest_regressor.fit(X_train, y_train)\n"
      ],
      "metadata": {
        "colab": {
          "base_uri": "https://localhost:8080/",
          "height": 74
        },
        "id": "1QQhagRsVgRd",
        "outputId": "2238aa57-4473-493d-e422-2567c972de70"
      },
      "execution_count": 58,
      "outputs": [
        {
          "output_type": "execute_result",
          "data": {
            "text/plain": [
              "RandomForestRegressor(random_state=42)"
            ],
            "text/html": [
              "<style>#sk-container-id-3 {color: black;background-color: white;}#sk-container-id-3 pre{padding: 0;}#sk-container-id-3 div.sk-toggleable {background-color: white;}#sk-container-id-3 label.sk-toggleable__label {cursor: pointer;display: block;width: 100%;margin-bottom: 0;padding: 0.3em;box-sizing: border-box;text-align: center;}#sk-container-id-3 label.sk-toggleable__label-arrow:before {content: \"▸\";float: left;margin-right: 0.25em;color: #696969;}#sk-container-id-3 label.sk-toggleable__label-arrow:hover:before {color: black;}#sk-container-id-3 div.sk-estimator:hover label.sk-toggleable__label-arrow:before {color: black;}#sk-container-id-3 div.sk-toggleable__content {max-height: 0;max-width: 0;overflow: hidden;text-align: left;background-color: #f0f8ff;}#sk-container-id-3 div.sk-toggleable__content pre {margin: 0.2em;color: black;border-radius: 0.25em;background-color: #f0f8ff;}#sk-container-id-3 input.sk-toggleable__control:checked~div.sk-toggleable__content {max-height: 200px;max-width: 100%;overflow: auto;}#sk-container-id-3 input.sk-toggleable__control:checked~label.sk-toggleable__label-arrow:before {content: \"▾\";}#sk-container-id-3 div.sk-estimator input.sk-toggleable__control:checked~label.sk-toggleable__label {background-color: #d4ebff;}#sk-container-id-3 div.sk-label input.sk-toggleable__control:checked~label.sk-toggleable__label {background-color: #d4ebff;}#sk-container-id-3 input.sk-hidden--visually {border: 0;clip: rect(1px 1px 1px 1px);clip: rect(1px, 1px, 1px, 1px);height: 1px;margin: -1px;overflow: hidden;padding: 0;position: absolute;width: 1px;}#sk-container-id-3 div.sk-estimator {font-family: monospace;background-color: #f0f8ff;border: 1px dotted black;border-radius: 0.25em;box-sizing: border-box;margin-bottom: 0.5em;}#sk-container-id-3 div.sk-estimator:hover {background-color: #d4ebff;}#sk-container-id-3 div.sk-parallel-item::after {content: \"\";width: 100%;border-bottom: 1px solid gray;flex-grow: 1;}#sk-container-id-3 div.sk-label:hover label.sk-toggleable__label {background-color: #d4ebff;}#sk-container-id-3 div.sk-serial::before {content: \"\";position: absolute;border-left: 1px solid gray;box-sizing: border-box;top: 0;bottom: 0;left: 50%;z-index: 0;}#sk-container-id-3 div.sk-serial {display: flex;flex-direction: column;align-items: center;background-color: white;padding-right: 0.2em;padding-left: 0.2em;position: relative;}#sk-container-id-3 div.sk-item {position: relative;z-index: 1;}#sk-container-id-3 div.sk-parallel {display: flex;align-items: stretch;justify-content: center;background-color: white;position: relative;}#sk-container-id-3 div.sk-item::before, #sk-container-id-3 div.sk-parallel-item::before {content: \"\";position: absolute;border-left: 1px solid gray;box-sizing: border-box;top: 0;bottom: 0;left: 50%;z-index: -1;}#sk-container-id-3 div.sk-parallel-item {display: flex;flex-direction: column;z-index: 1;position: relative;background-color: white;}#sk-container-id-3 div.sk-parallel-item:first-child::after {align-self: flex-end;width: 50%;}#sk-container-id-3 div.sk-parallel-item:last-child::after {align-self: flex-start;width: 50%;}#sk-container-id-3 div.sk-parallel-item:only-child::after {width: 0;}#sk-container-id-3 div.sk-dashed-wrapped {border: 1px dashed gray;margin: 0 0.4em 0.5em 0.4em;box-sizing: border-box;padding-bottom: 0.4em;background-color: white;}#sk-container-id-3 div.sk-label label {font-family: monospace;font-weight: bold;display: inline-block;line-height: 1.2em;}#sk-container-id-3 div.sk-label-container {text-align: center;}#sk-container-id-3 div.sk-container {/* jupyter's `normalize.less` sets `[hidden] { display: none; }` but bootstrap.min.css set `[hidden] { display: none !important; }` so we also need the `!important` here to be able to override the default hidden behavior on the sphinx rendered scikit-learn.org. See: https://github.com/scikit-learn/scikit-learn/issues/21755 */display: inline-block !important;position: relative;}#sk-container-id-3 div.sk-text-repr-fallback {display: none;}</style><div id=\"sk-container-id-3\" class=\"sk-top-container\"><div class=\"sk-text-repr-fallback\"><pre>RandomForestRegressor(random_state=42)</pre><b>In a Jupyter environment, please rerun this cell to show the HTML representation or trust the notebook. <br />On GitHub, the HTML representation is unable to render, please try loading this page with nbviewer.org.</b></div><div class=\"sk-container\" hidden><div class=\"sk-item\"><div class=\"sk-estimator sk-toggleable\"><input class=\"sk-toggleable__control sk-hidden--visually\" id=\"sk-estimator-id-3\" type=\"checkbox\" checked><label for=\"sk-estimator-id-3\" class=\"sk-toggleable__label sk-toggleable__label-arrow\">RandomForestRegressor</label><div class=\"sk-toggleable__content\"><pre>RandomForestRegressor(random_state=42)</pre></div></div></div></div></div>"
            ]
          },
          "metadata": {},
          "execution_count": 58
        }
      ]
    },
    {
      "cell_type": "markdown",
      "source": [
        "\n",
        "\n",
        "*   Part B: Evaluate the performance of the trained model using appropriate evaluation metrics (e.g., accuracy, precision, recall, F1-score).\n",
        "\n"
      ],
      "metadata": {
        "id": "VqU64dPJZZd2"
      }
    },
    {
      "cell_type": "code",
      "source": [
        "# Evaluate the performance of the Random Forest Regression model\n",
        "# Predict the values using the trained Random Forest Regression model\n",
        "y_pred_rf = random_forest_regressor.predict(X_test)\n",
        "\n",
        "# Calculate regression evaluation metrics\n",
        "mae_rf = mean_absolute_error(y_test, y_pred_rf)\n",
        "mse_rf = mean_squared_error(y_test, y_pred_rf)\n",
        "\n",
        "# Print the regression evaluation metrics\n",
        "print(\"Random Forest Regression Model Performance:\")\n",
        "print(f\"Mean Absolute Error (MAE): {mae_rf}\")\n",
        "print(f\"Mean Squared Error (MSE): {mse_rf}\")\n"
      ],
      "metadata": {
        "colab": {
          "base_uri": "https://localhost:8080/"
        },
        "id": "NRUWRpk2Y8xC",
        "outputId": "c97445aa-cd02-4088-fe1a-ec2980a53ee2"
      },
      "execution_count": 59,
      "outputs": [
        {
          "output_type": "stream",
          "name": "stdout",
          "text": [
            "Random Forest Regression Model Performance:\n",
            "Mean Absolute Error (MAE): 85187.39592237395\n",
            "Mean Squared Error (MSE): 12205895024.48297\n"
          ]
        }
      ]
    },
    {
      "cell_type": "markdown",
      "source": [
        "\n",
        "\n",
        "*   \n",
        "Part C: Compare the performance of at least two different supervised learning algorithms on the same dataset.\n",
        "\n",
        "\n"
      ],
      "metadata": {
        "id": "zpsSVHvKbGl1"
      }
    },
    {
      "cell_type": "code",
      "source": [
        "from sklearn.svm import SVR\n",
        "\n",
        "# Train the Support Vector Regression model\n",
        "svr_regressor = SVR(kernel='rbf')\n",
        "svr_regressor.fit(X_train, y_train)\n",
        "\n",
        "# Predict using SVR\n",
        "y_pred_svr = svr_regressor.predict(X_test)\n",
        "\n",
        "# Calculate evaluation metrics for SVR\n",
        "mae_svr = mean_absolute_error(y_test, y_pred_svr)\n",
        "mse_svr = mean_squared_error(y_test, y_pred_svr)\n",
        "\n",
        "print(\"Support Vector Regression Model Performance:\")\n",
        "print(f\"Mean Absolute Error (MAE): {mae_svr}\")\n",
        "print(f\"Mean Squared Error (MSE): {mse_svr}\")\n"
      ],
      "metadata": {
        "colab": {
          "base_uri": "https://localhost:8080/"
        },
        "id": "8DzeYP1aZd0z",
        "outputId": "0228bb45-7002-456f-dc41-0b0f82459dc3"
      },
      "execution_count": 60,
      "outputs": [
        {
          "output_type": "stream",
          "name": "stdout",
          "text": [
            "Support Vector Regression Model Performance:\n",
            "Mean Absolute Error (MAE): 90643.72378669328\n",
            "Mean Squared Error (MSE): 14675518309.719269\n"
          ]
        }
      ]
    },
    {
      "cell_type": "code",
      "source": [
        "# Compare the performance of Random Forest Regression and SVR\n",
        "print(\"Comparison of Model Performances:\")\n",
        "print(\"Random Forest Regression Model Performance:\")\n",
        "print(f\"Mean Absolute Error (MAE): {mae_rf}\")\n",
        "print(f\"Mean Squared Error (MSE): {mse_rf}\")\n",
        "\n",
        "print(\"\\nSupport Vector Regression Model Performance:\")\n",
        "print(f\"Mean Absolute Error (MAE): {mae_svr}\")\n",
        "print(f\"Mean Squared Error (MSE): {mse_svr}\")\n"
      ],
      "metadata": {
        "colab": {
          "base_uri": "https://localhost:8080/"
        },
        "id": "SDodjvaLbeD1",
        "outputId": "b1acf950-864e-4d90-e583-7bb6a83bb844"
      },
      "execution_count": 61,
      "outputs": [
        {
          "output_type": "stream",
          "name": "stdout",
          "text": [
            "Comparison of Model Performances:\n",
            "Random Forest Regression Model Performance:\n",
            "Mean Absolute Error (MAE): 85187.39592237395\n",
            "Mean Squared Error (MSE): 12205895024.48297\n",
            "\n",
            "Support Vector Regression Model Performance:\n",
            "Mean Absolute Error (MAE): 90643.72378669328\n",
            "Mean Squared Error (MSE): 14675518309.719269\n"
          ]
        }
      ]
    },
    {
      "cell_type": "markdown",
      "source": [
        "# Task 3: Unsupervised Learning (15 Marks)"
      ],
      "metadata": {
        "id": "KPK7bH9zb4l8"
      }
    },
    {
      "cell_type": "markdown",
      "source": [
        "\n",
        "\n",
        "*   Part A: Apply an unsupervised learning algorithm (e.g., K-Means\n",
        "Clustering or Hierarchical Clustering) to identify patterns or clusters in the dataset.\n",
        "\n",
        "\n",
        "\n",
        "\n"
      ],
      "metadata": {
        "id": "I7vu-z0vcAgw"
      }
    },
    {
      "cell_type": "code",
      "source": [
        "from sklearn.cluster import KMeans\n",
        "\n",
        "# Instantiate K-Means object\n",
        "kmeans = KMeans(n_clusters=5, random_state=42)\n",
        "\n",
        "# Fit K-Means model to the data\n",
        "kmeans.fit(X)\n",
        "# Get cluster centers\n",
        "cluster_centers = kmeans.cluster_centers_\n",
        "\n",
        "# Get cluster labels\n",
        "cluster_labels = kmeans.labels_\n",
        "\n",
        "# Print cluster centers\n",
        "print(\"Cluster Centers:\")\n",
        "print(cluster_centers)\n",
        "\n",
        "# Print cluster labels\n",
        "print(\"Cluster Labels:\")\n",
        "print(cluster_labels)\n"
      ],
      "metadata": {
        "colab": {
          "base_uri": "https://localhost:8080/"
        },
        "id": "GVsRYlDEbgOE",
        "outputId": "efe500ac-59c1-46c2-86dc-42e7ac624fc2"
      },
      "execution_count": 62,
      "outputs": [
        {
          "output_type": "stream",
          "name": "stderr",
          "text": [
            "/usr/local/lib/python3.10/dist-packages/sklearn/cluster/_kmeans.py:870: FutureWarning: The default value of `n_init` will change from 10 to 'auto' in 1.4. Set the value of `n_init` explicitly to suppress the warning\n",
            "  warnings.warn(\n"
          ]
        },
        {
          "output_type": "stream",
          "name": "stdout",
          "text": [
            "Cluster Centers:\n",
            "[[ 2703.42524917  1487.65575067]\n",
            " [ 8667.39152542  4206.99491525]\n",
            " [ 1326.44784726   781.851102  ]\n",
            " [17783.76923077  8427.76923077]\n",
            " [ 4754.55857934  2458.27629151]]\n",
            "Cluster Labels:\n",
            "[4 4 2 ... 0 0 2]\n"
          ]
        }
      ]
    },
    {
      "cell_type": "markdown",
      "source": [
        "\n",
        "\n",
        "*   Part B: Visualize the clusters and interpret the results.\n",
        "\n",
        "\n",
        "\n"
      ],
      "metadata": {
        "id": "7BC3KpSJcf28"
      }
    },
    {
      "cell_type": "code",
      "source": [
        "import matplotlib.pyplot as plt\n",
        "\n",
        "# Visualize the clusters\n",
        "plt.figure(figsize=(10, 6))\n",
        "\n",
        "# Scatter plot for two features: 'total_rooms' and 'median_house_value'\n",
        "plt.scatter(X['total_rooms'], X['total_rooms'], c=cluster_labels, cmap='viridis', s=50, alpha=0.5)\n",
        "\n",
        "# Plot cluster centers\n",
        "plt.scatter(cluster_centers[:, 0], cluster_centers[:, 1], c='red', s=200, marker='X', label='Cluster Centers')\n",
        "\n",
        "plt.xlabel('total_rooms')\n",
        "plt.ylabel('median_house_value')\n",
        "plt.title('K-Means Clustering: Visualization of Clusters')\n",
        "plt.legend()\n",
        "plt.grid(True)\n",
        "plt.colorbar(label='Cluster Label')\n",
        "\n",
        "plt.show()\n"
      ],
      "metadata": {
        "colab": {
          "base_uri": "https://localhost:8080/",
          "height": 564
        },
        "id": "CN_IdgImcS35",
        "outputId": "1e06aa0f-d0ec-40d0-d90a-eeb9cd07585c"
      },
      "execution_count": 65,
      "outputs": [
        {
          "output_type": "display_data",
          "data": {
            "text/plain": [
              "<Figure size 1000x600 with 2 Axes>"
            ],
            "image/png": "[encoded data removed]"
          },
          "metadata": {}
        }
      ]
    },
    {
      "cell_type": "markdown",
      "source": [
        "\n",
        "\n",
        "*   Part C: Discuss the advantages and limitations of using unsupervised learning in this scenario.\n",
        "\n",
        "\n",
        "\n"
      ],
      "metadata": {
        "id": "gq-2O5TAlFXH"
      }
    },
    {
      "cell_type": "markdown",
      "source": [
        "Advantages:\n",
        "\n",
        "Uncovering Hidden Patterns: Unsupervised learning can uncover hidden patterns in the data that might not be observable with supervised learning. This is particularly useful when we don’t have pre-labeled categories.\n",
        "\n",
        "Efficiency: It’s efficient for large datasets. As it doesn’t require labeled data, it can work with larger volumes of input data and produce results faster than supervised learning methods.\n",
        "\n",
        "Understanding Data Structure: It helps in understanding the structure and distribution of the data. This can be useful for exploratory analysis, where we want to understand the underlying patterns of the data.\n",
        "\n",
        "Limitations:\n",
        "\n",
        "Predefined Number of Clusters: The number of clusters needs to be defined beforehand, which can be challenging. In many real-world scenarios, we may not know the number of clusters that are ideal for the data.\n",
        "\n",
        "Sensitivity to Scale and Outliers: K-Means is sensitive to the scale of data and outliers. If the scale of features is not the same, then the algorithm can be biased towards the features with higher magnitude. Similarly, the presence of outliers can distort the shape and size of the clusters.\n",
        "\n",
        "Inconsistent Results: Clustering results are not always consistent and can vary depending on initial conditions. Different runs of the algorithm can result in different clusters.\n",
        "\n",
        "In the provided scenario, K-Means clustering is used to group data into clusters based on “total rooms” and “median house value”. The visualization shows three distinct clusters, which could represent different categories of houses. However, the limitations mentioned above should be taken into consideration for a more accurate interpretation of the results. For instance, the number of clusters was predefined, and the results could vary if a different number of clusters was chosen. Similarly, if there are outliers in the data, they could affect the clustering results. Therefore, while unsupervised learning provides valuable insights, it’s important to understand its limitations and apply it judiciously."
      ],
      "metadata": {
        "id": "jKq62_e7mj-y"
      }
    },
    {
      "cell_type": "markdown",
      "source": [
        "# Task 4: Application in Predictive Analytics (10 Marks)\n"
      ],
      "metadata": {
        "id": "xJ-VDqq9oL1S"
      }
    },
    {
      "cell_type": "markdown",
      "source": [
        "\n",
        "\n",
        "*   Choose one predictive analytics application (e.g., sales forecasting or customer churn prediction).\n",
        "\n",
        "*   Build a machine learning model to address the chosen application.\n",
        "\n",
        "*   Evaluate the model's performance and discuss the practical implications.\n",
        "\n",
        "\n",
        "\n",
        "\n"
      ],
      "metadata": {
        "id": "cmtcD4cxpDBo"
      }
    },
    {
      "cell_type": "code",
      "source": [
        "# Import necessary libraries\n",
        "import pandas as pd\n",
        "import numpy as np\n",
        "from sklearn.model_selection import train_test_split\n",
        "from sklearn.preprocessing import StandardScaler\n",
        "from sklearn.ensemble import RandomForestClassifier\n",
        "from sklearn.metrics import accuracy_score, precision_score, recall_score, f1_score, confusion_matrix\n",
        "\n",
        "# Load the dataset\n",
        "data = pd.read_csv('/content/sample_data/california_housing_train.csv')\n",
        "\n",
        "# Data preprocessing\n",
        "# We can categorize it into different price categories for classification\n",
        "data['price_category'] = pd.cut(data['median_house_value'],\n",
        "                                 bins=[0., 50000., 100000., 150000., 200000., 250000., 300000., 350000., 400000., np.inf],\n",
        "                                 labels=[1, 2, 3, 4, 5, 6, 7, 8, 9])\n",
        "\n",
        "X = data.drop(['median_house_value', 'price_category'], axis=1)  # Features\n",
        "y = data['price_category']  # Target variable\n",
        "\n",
        "# Split the dataset into training and testing sets\n",
        "X_train, X_test, y_train, y_test = train_test_split(X, y, test_size=0.2, random_state=42)\n",
        "\n",
        "# Feature scaling\n",
        "scaler = StandardScaler()\n",
        "X_train_scaled = scaler.fit_transform(X_train)\n",
        "X_test_scaled = scaler.transform(X_test)\n",
        "\n",
        "# Train the Random Forest Classifier\n",
        "model = RandomForestClassifier(n_estimators=100, random_state=42)\n",
        "model.fit(X_train_scaled, y_train)\n",
        "\n",
        "# Predictions\n",
        "y_pred = model.predict(X_test_scaled)\n",
        "\n",
        "# Evaluation\n",
        "accuracy = accuracy_score(y_test, y_pred)\n",
        "precision = precision_score(y_test, y_pred, average='weighted')\n",
        "recall = recall_score(y_test, y_pred, average='weighted')\n",
        "f1 = f1_score(y_test, y_pred, average='weighted')\n",
        "conf_matrix = confusion_matrix(y_test, y_pred)\n",
        "\n",
        "# Print evaluation metrics\n",
        "print(f'Accuracy: {accuracy}')\n",
        "print(f'Precision: {precision}')\n",
        "print(f'Recall: {recall}')\n",
        "print(f'F1 Score: {f1}')\n",
        "print('Confusion Matrix:')\n",
        "print(conf_matrix)\n"
      ],
      "metadata": {
        "colab": {
          "base_uri": "https://localhost:8080/"
        },
        "id": "Rl6X0p18crJb",
        "outputId": "e548726f-74dd-4e7f-87a9-97e72998bac5"
      },
      "execution_count": 67,
      "outputs": [
        {
          "output_type": "stream",
          "name": "stdout",
          "text": [
            "Accuracy: 0.5476470588235294\n",
            "Precision: 0.5333702434663764\n",
            "Recall: 0.5476470588235294\n",
            "F1 Score: 0.5330468930958479\n",
            "Confusion Matrix:\n",
            "[[  4  26   0   1   0   0   0   0   0]\n",
            " [  3 454  99  16   1   1   0   0   0]\n",
            " [  0 128 375 133  16   2   0   0   1]\n",
            " [  0  20 124 415  92   8   2   1   4]\n",
            " [  0   8  30 159 213  58   6   1   5]\n",
            " [  0   1   6  50 108 116  22   8  16]\n",
            " [  0   0   4  23  41  46  46  20  33]\n",
            " [  0   0   1   3  14  22  29  19  71]\n",
            " [  0   1   2  11  23  19   9  10 220]]\n"
          ]
        }
      ]
    },
    {
      "cell_type": "markdown",
      "source": [
        "# Bonus Task (Extra 5 Marks):"
      ],
      "metadata": {
        "id": "YclIUMM4p18T"
      }
    },
    {
      "cell_type": "markdown",
      "source": [
        "\n",
        "\n",
        "*   Implement an additional machine learning algorithm of your choice and compare its performance with the existing models.\n",
        "\n",
        "\n",
        "\n"
      ],
      "metadata": {
        "id": "iQ694r8Tp4v3"
      }
    },
    {
      "cell_type": "code",
      "source": [
        "# Import necessary libraries\n",
        "from sklearn.svm import SVC\n",
        "\n",
        "# Train the Support Vector Machine Classifier\n",
        "svm_model = SVC(kernel='linear', C=1.0, random_state=42)\n",
        "svm_model.fit(X_train_scaled, y_train)\n",
        "\n",
        "# Predictions using SVM\n",
        "y_pred_svm = svm_model.predict(X_test_scaled)\n",
        "\n",
        "# Evaluation for SVM\n",
        "accuracy_svm = accuracy_score(y_test, y_pred_svm)\n",
        "precision_svm = precision_score(y_test, y_pred_svm, average='weighted')\n",
        "recall_svm = recall_score(y_test, y_pred_svm, average='weighted')\n",
        "f1_svm = f1_score(y_test, y_pred_svm, average='weighted')\n",
        "conf_matrix_svm = confusion_matrix(y_test, y_pred_svm)\n",
        "\n",
        "# Print evaluation metrics for SVM\n",
        "print(\"Support Vector Machine Classifier:\")\n",
        "print(f'Accuracy: {accuracy_svm}')\n",
        "print(f'Precision: {precision_svm}')\n",
        "print(f'Recall: {recall_svm}')\n",
        "print(f'F1 Score: {f1_svm}')\n",
        "print('Confusion Matrix:')\n",
        "print(conf_matrix_svm)\n",
        "\n",
        "# Compare the performance of Random Forest and SVM\n",
        "print(\"\\nComparison of Random Forest and Support Vector Machine:\")\n",
        "print(\"Random Forest Classifier:\")\n",
        "print(f'Accuracy: {accuracy}')\n",
        "print(f'Precision: {precision}')\n",
        "print(f'Recall: {recall}')\n",
        "print(f'F1 Score: {f1}')\n",
        "print('Confusion Matrix:')\n",
        "print(conf_matrix)\n",
        "\n",
        "print(\"\\nSupport Vector Machine Classifier:\")\n",
        "print(f'Accuracy: {accuracy_svm}')\n",
        "print(f'Precision: {precision_svm}')\n",
        "print(f'Recall: {recall_svm}')\n",
        "print(f'F1 Score: {f1_svm}')\n",
        "print('Confusion Matrix:')\n",
        "print(conf_matrix_svm)\n"
      ],
      "metadata": {
        "colab": {
          "base_uri": "https://localhost:8080/"
        },
        "id": "J0uNDpTGo3Y7",
        "outputId": "3a318f3c-c40a-4b6d-8051-bcb5988bb219"
      },
      "execution_count": 68,
      "outputs": [
        {
          "output_type": "stream",
          "name": "stdout",
          "text": [
            "Support Vector Machine Classifier:\n",
            "Accuracy: 0.44441176470588234\n",
            "Precision: 0.3889481478371207\n",
            "Recall: 0.44441176470588234\n",
            "F1 Score: 0.4112448805241598\n",
            "Confusion Matrix:\n",
            "[[  0  28   2   1   0   0   0   0   0]\n",
            " [  0 407 137  26   4   0   0   0   0]\n",
            " [  0 163 248 211  23   9   0   0   1]\n",
            " [  0  39 132 363 111  15   0   0   6]\n",
            " [  0   7  45 209 177  36   0   0   6]\n",
            " [  0   3   5  63 126  89   0   0  41]\n",
            " [  0   2   7  20  68  64   0   0  52]\n",
            " [  0   0   3   8  33  29   1   0  85]\n",
            " [  0   2   3  14  30  19   0   0 227]]\n",
            "\n",
            "Comparison of Random Forest and Support Vector Machine:\n",
            "Random Forest Classifier:\n",
            "Accuracy: 0.5476470588235294\n",
            "Precision: 0.5333702434663764\n",
            "Recall: 0.5476470588235294\n",
            "F1 Score: 0.5330468930958479\n",
            "Confusion Matrix:\n",
            "[[  4  26   0   1   0   0   0   0   0]\n",
            " [  3 454  99  16   1   1   0   0   0]\n",
            " [  0 128 375 133  16   2   0   0   1]\n",
            " [  0  20 124 415  92   8   2   1   4]\n",
            " [  0   8  30 159 213  58   6   1   5]\n",
            " [  0   1   6  50 108 116  22   8  16]\n",
            " [  0   0   4  23  41  46  46  20  33]\n",
            " [  0   0   1   3  14  22  29  19  71]\n",
            " [  0   1   2  11  23  19   9  10 220]]\n",
            "\n",
            "Support Vector Machine Classifier:\n",
            "Accuracy: 0.44441176470588234\n",
            "Precision: 0.3889481478371207\n",
            "Recall: 0.44441176470588234\n",
            "F1 Score: 0.4112448805241598\n",
            "Confusion Matrix:\n",
            "[[  0  28   2   1   0   0   0   0   0]\n",
            " [  0 407 137  26   4   0   0   0   0]\n",
            " [  0 163 248 211  23   9   0   0   1]\n",
            " [  0  39 132 363 111  15   0   0   6]\n",
            " [  0   7  45 209 177  36   0   0   6]\n",
            " [  0   3   5  63 126  89   0   0  41]\n",
            " [  0   2   7  20  68  64   0   0  52]\n",
            " [  0   0   3   8  33  29   1   0  85]\n",
            " [  0   2   3  14  30  19   0   0 227]]\n"
          ]
        },
        {
          "output_type": "stream",
          "name": "stderr",
          "text": [
            "/usr/local/lib/python3.10/dist-packages/sklearn/metrics/_classification.py:1344: UndefinedMetricWarning: Precision is ill-defined and being set to 0.0 in labels with no predicted samples. Use `zero_division` parameter to control this behavior.\n",
            "  _warn_prf(average, modifier, msg_start, len(result))\n"
          ]
        }
      ]
    },
    {
      "cell_type": "code",
      "source": [],
      "metadata": {
        "id": "_v1c85PKpqIa"
      },
      "execution_count": null,
      "outputs": []
    }
  ]
}